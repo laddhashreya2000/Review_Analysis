{
  "nbformat": 4,
  "nbformat_minor": 0,
  "metadata": {
    "colab": {
      "name": "Customer_review_analysis.ipynb",
      "provenance": [],
      "collapsed_sections": [],
      "include_colab_link": true
    },
    "kernelspec": {
      "name": "python3",
      "display_name": "Python 3"
    },
    "accelerator": "TPU"
  },
  "cells": [
    {
      "cell_type": "markdown",
      "metadata": {
        "id": "view-in-github",
        "colab_type": "text"
      },
      "source": [
        "<a href=\"https://colab.research.google.com/github/laddhashreya2000/Review_Analysis/blob/master/Customer_review_analysis.ipynb\" target=\"_parent\"><img src=\"https://colab.research.google.com/assets/colab-badge.svg\" alt=\"Open In Colab\"/></a>"
      ]
    },
    {
      "cell_type": "code",
      "metadata": {
        "id": "a3_byfKPgXxD",
        "colab_type": "code",
        "colab": {
          "base_uri": "https://localhost:8080/",
          "height": 120
        },
        "outputId": "594f2d8c-4703-4b11-8f30-31198bf1a1ae"
      },
      "source": [
        "from google.colab import drive\n",
        "drive.mount('/content/drive')"
      ],
      "execution_count": null,
      "outputs": [
        {
          "output_type": "stream",
          "text": [
            "Go to this URL in a browser: https://accounts.google.com/o/oauth2/auth?client_id=947318989803-6bn6qk8qdgf4n4g3pfee6491hc0brc4i.apps.googleusercontent.com&redirect_uri=urn%3aietf%3awg%3aoauth%3a2.0%3aoob&scope=email%20https%3a%2f%2fwww.googleapis.com%2fauth%2fdocs.test%20https%3a%2f%2fwww.googleapis.com%2fauth%2fdrive%20https%3a%2f%2fwww.googleapis.com%2fauth%2fdrive.photos.readonly%20https%3a%2f%2fwww.googleapis.com%2fauth%2fpeopleapi.readonly&response_type=code\n",
            "\n",
            "Enter your authorization code:\n",
            "··········\n",
            "Mounted at /content/drive\n"
          ],
          "name": "stdout"
        }
      ]
    },
    {
      "cell_type": "code",
      "metadata": {
        "id": "4UgBLlGQguNk",
        "colab_type": "code",
        "colab": {}
      },
      "source": [
        "import sys\n",
        "sys.path.append('/content/drive/My Drive/NLP_research/Notebooks')"
      ],
      "execution_count": null,
      "outputs": []
    },
    {
      "cell_type": "code",
      "metadata": {
        "id": "ZL-yCET2ZQB0",
        "colab_type": "code",
        "colab": {
          "base_uri": "https://localhost:8080/",
          "height": 133
        },
        "outputId": "59cd45ff-5bd9-4043-cf1a-54b50067db26"
      },
      "source": [
        "from preprocessing import Process\n",
        "from featureextraction import Feature\n",
        "from pruning import Pruning\n",
        "from sentiment import Opinion"
      ],
      "execution_count": null,
      "outputs": [
        {
          "output_type": "stream",
          "text": [
            "Downloading emoji data ...\n",
            "... OK (Got response in 0.11 seconds)\n",
            "Writing emoji data to /root/.demoji/codes.json ...\n",
            "... OK\n"
          ],
          "name": "stdout"
        },
        {
          "output_type": "stream",
          "text": [
            "/usr/local/lib/python3.6/dist-packages/nltk/twitter/__init__.py:20: UserWarning: The twython library has not been installed. Some functionality from the twitter package will not be available.\n",
            "  warnings.warn(\"The twython library has not been installed. \"\n"
          ],
          "name": "stderr"
        },
        {
          "output_type": "stream",
          "text": [
            "[nltk_data] Downloading package vader_lexicon to /root/nltk_data...\n"
          ],
          "name": "stdout"
        }
      ]
    },
    {
      "cell_type": "code",
      "metadata": {
        "id": "gwhbRmrgrJS-",
        "colab_type": "code",
        "colab": {}
      },
      "source": [
        "def review_analysis(df, asm_support, compact, p_support):\n",
        "\n",
        "  #preprocessing\n",
        "  review = Process(df)\n",
        "  review.lower() #convert all text to lower case\n",
        "  review.demojify() #remove all emoji from data\n",
        "  review.remove_1word() # 1 word reviews do not contain sentiment towards any feature, so all one word reviews are removed\n",
        "  review.remove_2word() #those 2 word reviews that do not contain any noun, i.e any feature of product are removed\n",
        "  \n",
        "  #Feature extraction\n",
        "  review = Feature(review.df)\n",
        "  review.extract_nouns() # extract all nouns from the text\n",
        "  review.ass_rules(support=asm_support) #Apply apriori algorithm to extract frequently mentioned features from nouns\n",
        "  review.get_features() # extracts feature list from the dataset after applying asm with appropriate support\n",
        "\n",
        "  #Applying feature pruning to extract meaningful features from the list extracted above\n",
        "  review = Pruning(review.df , review.features)\n",
        "  review.compactness_pruning(per = compact) #appplying compactness pruning on the two word features, which extracts a list of the values of features, their total appearance and the number of sentences where they are compact\n",
        "  review.redundancy_pruning(thresh=p_support) #applies pruning for 1 word feature, to determine which are meaningful or not. Check cluster analysis of customer reviews article by Prof. Gourab Nath.\n",
        "  review.final_list()#get final list of meaningful features for our product\n",
        "  review.correct() #correct the nouns which are incorrect forms of the features in the dataset\n",
        "\n",
        "  #Opinion extraction\n",
        "  review = Opinion(review.df, review.final_dict, review.one_word_feature, review.two_word_features)\n",
        "  review.sentiment_score_one_word()#extract sentiment scores of one word features\n",
        "  review.sentiment_score_two_word()#extract sentiment scores of two word features\n",
        "\n",
        "  return"
      ],
      "execution_count": null,
      "outputs": []
    },
    {
      "cell_type": "code",
      "metadata": {
        "id": "a4NLQuBngd_f",
        "colab_type": "code",
        "colab": {
          "base_uri": "https://localhost:8080/",
          "height": 94
        },
        "outputId": "0517d301-eb95-4d3a-dd0b-36378e51250c"
      },
      "source": [
        "import pandas as pd\n",
        "df=pd.read_csv('/content/drive/My Drive/NLP_research/Dataset/reviews.csv')\n",
        "print(df.shape)\n",
        "df.head(1)"
      ],
      "execution_count": null,
      "outputs": [
        {
          "output_type": "stream",
          "text": [
            "(1425, 7)\n"
          ],
          "name": "stdout"
        },
        {
          "output_type": "execute_result",
          "data": {
            "text/html": [
              "<div>\n",
              "<style scoped>\n",
              "    .dataframe tbody tr th:only-of-type {\n",
              "        vertical-align: middle;\n",
              "    }\n",
              "\n",
              "    .dataframe tbody tr th {\n",
              "        vertical-align: top;\n",
              "    }\n",
              "\n",
              "    .dataframe thead th {\n",
              "        text-align: right;\n",
              "    }\n",
              "</style>\n",
              "<table border=\"1\" class=\"dataframe\">\n",
              "  <thead>\n",
              "    <tr style=\"text-align: right;\">\n",
              "      <th></th>\n",
              "      <th>id</th>\n",
              "      <th>profileName</th>\n",
              "      <th>text</th>\n",
              "      <th>date</th>\n",
              "      <th>title</th>\n",
              "      <th>rating</th>\n",
              "      <th>images</th>\n",
              "    </tr>\n",
              "  </thead>\n",
              "  <tbody>\n",
              "    <tr>\n",
              "      <th>0</th>\n",
              "      <td>R1XPFOGBHSG8K4</td>\n",
              "      <td>Akash peelwa</td>\n",
              "      <td>\\n  PLZZ read this complete information before...</td>\n",
              "      <td>Reviewed in India on 9 June 2020</td>\n",
              "      <td>PLZZ read this before Wasting your money.</td>\n",
              "      <td>1</td>\n",
              "      <td>NaN</td>\n",
              "    </tr>\n",
              "  </tbody>\n",
              "</table>\n",
              "</div>"
            ],
            "text/plain": [
              "               id   profileName  ... rating images\n",
              "0  R1XPFOGBHSG8K4  Akash peelwa  ...      1    NaN\n",
              "\n",
              "[1 rows x 7 columns]"
            ]
          },
          "metadata": {
            "tags": []
          },
          "execution_count": 5
        }
      ]
    },
    {
      "cell_type": "code",
      "metadata": {
        "id": "zoibpuejaYok",
        "colab_type": "code",
        "colab": {}
      },
      "source": [
        "review_analysis(df['text'], asm_support=0.01, compact=0.44, p_support=40)"
      ],
      "execution_count": null,
      "outputs": []
    }
  ]
}
