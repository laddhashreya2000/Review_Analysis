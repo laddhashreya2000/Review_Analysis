{
  "nbformat": 4,
  "nbformat_minor": 0,
  "metadata": {
    "colab": {
      "name": "Customer_review_analysis.ipynb",
      "provenance": [],
      "collapsed_sections": [],
      "include_colab_link": true
    },
    "kernelspec": {
      "name": "python3",
      "display_name": "Python 3"
    },
    "accelerator": "TPU"
  },
  "cells": [
    {
      "cell_type": "markdown",
      "metadata": {
        "id": "view-in-github",
        "colab_type": "text"
      },
      "source": [
        "<a href=\"https://colab.research.google.com/github/laddhashreya2000/Review_Analysis/blob/master/Customer_review_analysis.ipynb\" target=\"_parent\"><img src=\"https://colab.research.google.com/assets/colab-badge.svg\" alt=\"Open In Colab\"/></a>"
      ]
    },
    {
      "cell_type": "code",
      "metadata": {
        "id": "a3_byfKPgXxD",
        "colab_type": "code",
        "colab": {
          "base_uri": "https://localhost:8080/",
          "height": 34
        },
        "outputId": "9fa40176-5b41-4f83-97ed-a945bec72479"
      },
      "source": [
        "from google.colab import drive\n",
        "drive.mount('/content/drive')"
      ],
      "execution_count": 1,
      "outputs": [
        {
          "output_type": "stream",
          "text": [
            "Mounted at /content/drive\n"
          ],
          "name": "stdout"
        }
      ]
    },
    {
      "cell_type": "code",
      "metadata": {
        "id": "4UgBLlGQguNk",
        "colab_type": "code",
        "colab": {}
      },
      "source": [
        "import sys\n",
        "sys.path.append('/content/drive/My Drive/NLP_research/Notebooks')"
      ],
      "execution_count": 2,
      "outputs": []
    },
    {
      "cell_type": "code",
      "metadata": {
        "id": "ZL-yCET2ZQB0",
        "colab_type": "code",
        "colab": {
          "base_uri": "https://localhost:8080/",
          "height": 160
        },
        "outputId": "511d4898-0a6c-4a05-aa1e-2ce5a75e6db9"
      },
      "source": [
        "from preprocessing import Process\n",
        "from featureextraction import Feature\n",
        "from pruning import Pruning\n",
        "from sentiment import Opinion"
      ],
      "execution_count": 3,
      "outputs": [
        {
          "output_type": "stream",
          "text": [
            "Downloading emoji data ...\n",
            "... OK (Got response in 0.08 seconds)\n",
            "Writing emoji data to /root/.demoji/codes.json ...\n",
            "... OK\n"
          ],
          "name": "stdout"
        },
        {
          "output_type": "stream",
          "text": [
            "/usr/local/lib/python3.6/dist-packages/nltk/twitter/__init__.py:20: UserWarning: The twython library has not been installed. Some functionality from the twitter package will not be available.\n",
            "  warnings.warn(\"The twython library has not been installed. \"\n"
          ],
          "name": "stderr"
        },
        {
          "output_type": "stream",
          "text": [
            "[nltk_data] Downloading package vader_lexicon to /root/nltk_data...\n"
          ],
          "name": "stdout"
        }
      ]
    },
    {
      "cell_type": "code",
      "metadata": {
        "id": "gwhbRmrgrJS-",
        "colab_type": "code",
        "colab": {}
      },
      "source": [
        "def review_analysis(df, asm_support, compact, p_support):\n",
        "\n",
        "  #preprocessing\n",
        "  review = Process(df)\n",
        "  review.lower() #convert all text to lower case\n",
        "  review.demojify() #remove all emoji from data\n",
        "  review.remove_1word() # 1 word reviews do not contain sentiment towards any feature, so all one word reviews are removed\n",
        "  review.remove_2word() #those 2 word reviews that do not contain any noun, i.e any feature of product are removed\n",
        "  \n",
        "  #Feature extraction\n",
        "  review = Feature(review.df)\n",
        "  review.extract_nouns() # extract all nouns from the text\n",
        "  review.ass_rules(support=asm_support) #Apply apriori algorithm to extract frequently mentioned features from nouns\n",
        "  review.get_features() # extracts feature list from the dataset after applying asm with appropriate support\n",
        "\n",
        "  #Applying feature pruning to extract meaningful features from the list extracted above\n",
        "  review = Pruning(review.df , review.features)\n",
        "  review.compactness_pruning(per = compact) #appplying compactness pruning on the two word features, which extracts a list of the values of features, their total appearance and the number of sentences where they are compact\n",
        "  review.redundancy_pruning(thresh=p_support) #applies pruning for 1 word feature, to determine which are meaningful or not. Check cluster analysis of customer reviews article by Prof. Gourab Nath.\n",
        "  review.final_list()#get final list of meaningful features for our product\n",
        "  review.correct() #correct the nouns which are incorrect forms of the features in the dataset\n",
        "\n",
        "  #Opinion extraction\n",
        "  review = Opinion(review.df, review.final_dict, review.one_word_feature, review.two_word_features)\n",
        "  review.sentiment_score_one_word()#extract sentiment scores of one word features\n",
        "  review.sentiment_score_two_word()#extract sentiment scores of two word features\n",
        "\n",
        "  return"
      ],
      "execution_count": 4,
      "outputs": []
    },
    {
      "cell_type": "code",
      "metadata": {
        "id": "a4NLQuBngd_f",
        "colab_type": "code",
        "colab": {
          "base_uri": "https://localhost:8080/",
          "height": 94
        },
        "outputId": "398623fc-df25-4f56-c577-66dca421eca9"
      },
      "source": [
        "import pandas as pd\n",
        "df=pd.read_csv('/content/drive/My Drive/NLP_research/Dataset/dataset2.csv')\n",
        "print(df.shape)\n",
        "df.head(1)"
      ],
      "execution_count": 5,
      "outputs": [
        {
          "output_type": "stream",
          "text": [
            "(1425, 7)\n"
          ],
          "name": "stdout"
        },
        {
          "output_type": "execute_result",
          "data": {
            "text/html": [
              "<div>\n",
              "<style scoped>\n",
              "    .dataframe tbody tr th:only-of-type {\n",
              "        vertical-align: middle;\n",
              "    }\n",
              "\n",
              "    .dataframe tbody tr th {\n",
              "        vertical-align: top;\n",
              "    }\n",
              "\n",
              "    .dataframe thead th {\n",
              "        text-align: right;\n",
              "    }\n",
              "</style>\n",
              "<table border=\"1\" class=\"dataframe\">\n",
              "  <thead>\n",
              "    <tr style=\"text-align: right;\">\n",
              "      <th></th>\n",
              "      <th>id</th>\n",
              "      <th>profileName</th>\n",
              "      <th>text</th>\n",
              "      <th>date</th>\n",
              "      <th>title</th>\n",
              "      <th>rating</th>\n",
              "      <th>images</th>\n",
              "    </tr>\n",
              "  </thead>\n",
              "  <tbody>\n",
              "    <tr>\n",
              "      <th>0</th>\n",
              "      <td>R1XPFOGBHSG8K4</td>\n",
              "      <td>Akash peelwa</td>\n",
              "      <td>\\n  PLZZ read this complete information before...</td>\n",
              "      <td>Reviewed in India on 9 June 2020</td>\n",
              "      <td>PLZZ read this before Wasting your money.</td>\n",
              "      <td>1</td>\n",
              "      <td>NaN</td>\n",
              "    </tr>\n",
              "  </tbody>\n",
              "</table>\n",
              "</div>"
            ],
            "text/plain": [
              "               id   profileName  ... rating images\n",
              "0  R1XPFOGBHSG8K4  Akash peelwa  ...      1    NaN\n",
              "\n",
              "[1 rows x 7 columns]"
            ]
          },
          "metadata": {
            "tags": []
          },
          "execution_count": 5
        }
      ]
    },
    {
      "cell_type": "code",
      "metadata": {
        "id": "zoibpuejaYok",
        "colab_type": "code",
        "colab": {}
      },
      "source": [
        "review_analysis(df['text'], asm_support=0.01, compact=0.44, p_support=40)\n",
        "#store the results obtained and move to next part for analysis of another dataset"
      ],
      "execution_count": 7,
      "outputs": []
    },
    {
      "cell_type": "code",
      "metadata": {
        "id": "L_zCHf86glUp",
        "colab_type": "code",
        "colab": {
          "base_uri": "https://localhost:8080/",
          "height": 249
        },
        "outputId": "918d4267-e22b-4c6e-cae3-b2a4bd2e7ec6"
      },
      "source": [
        "data=pd.read_csv('/content/drive/My Drive/NLP_research/Dataset/dataset1.csv')\n",
        "print(data.shape)\n",
        "data.head(1)"
      ],
      "execution_count": 8,
      "outputs": [
        {
          "output_type": "stream",
          "text": [
            "(5003, 18)\n"
          ],
          "name": "stdout"
        },
        {
          "output_type": "execute_result",
          "data": {
            "text/html": [
              "<div>\n",
              "<style scoped>\n",
              "    .dataframe tbody tr th:only-of-type {\n",
              "        vertical-align: middle;\n",
              "    }\n",
              "\n",
              "    .dataframe tbody tr th {\n",
              "        vertical-align: top;\n",
              "    }\n",
              "\n",
              "    .dataframe thead th {\n",
              "        text-align: right;\n",
              "    }\n",
              "</style>\n",
              "<table border=\"1\" class=\"dataframe\">\n",
              "  <thead>\n",
              "    <tr style=\"text-align: right;\">\n",
              "      <th></th>\n",
              "      <th>Category</th>\n",
              "      <th>Custom Name</th>\n",
              "      <th>ASIN</th>\n",
              "      <th>Country Code</th>\n",
              "      <th>Product Title</th>\n",
              "      <th>Product Review URL</th>\n",
              "      <th>Review Rating</th>\n",
              "      <th>Review Date</th>\n",
              "      <th>Reviewer URL</th>\n",
              "      <th>Reviewer Name</th>\n",
              "      <th>Reviewer ID</th>\n",
              "      <th>Review Title</th>\n",
              "      <th>Review Text</th>\n",
              "      <th>Verified Review</th>\n",
              "      <th>Variation ASIN</th>\n",
              "      <th>Deleted</th>\n",
              "      <th>Colour</th>\n",
              "      <th>Size name</th>\n",
              "    </tr>\n",
              "  </thead>\n",
              "  <tbody>\n",
              "    <tr>\n",
              "      <th>0</th>\n",
              "      <td>Default Category</td>\n",
              "      <td>No Custom Name</td>\n",
              "      <td>B07X1KSLBV</td>\n",
              "      <td>IN</td>\n",
              "      <td>Redmi Note 8 Pro (Gamma Green, 6GB RAM, 128GB ...</td>\n",
              "      <td>https://www.amazon.in/gp/review/RISNL5EM2G8A4</td>\n",
              "      <td>5</td>\n",
              "      <td>06-05-2020</td>\n",
              "      <td>https://www.amazon.in/gp/profile/amzn1.account...</td>\n",
              "      <td>Mohit kumar</td>\n",
              "      <td>AF4ML6CLY5VGASSMNKW4PVOVNKVQ</td>\n",
              "      <td>Amezing</td>\n",
              "      <td>This is best phone .....</td>\n",
              "      <td>Yes</td>\n",
              "      <td>B07X4PKGSN</td>\n",
              "      <td>Not Deleted</td>\n",
              "      <td>Halo White</td>\n",
              "      <td>6+128GB</td>\n",
              "    </tr>\n",
              "  </tbody>\n",
              "</table>\n",
              "</div>"
            ],
            "text/plain": [
              "           Category     Custom Name  ...      Colour Size name\n",
              "0  Default Category  No Custom Name  ...  Halo White   6+128GB\n",
              "\n",
              "[1 rows x 18 columns]"
            ]
          },
          "metadata": {
            "tags": []
          },
          "execution_count": 8
        }
      ]
    },
    {
      "cell_type": "code",
      "metadata": {
        "id": "3O2KzdjEgc2M",
        "colab_type": "code",
        "colab": {}
      },
      "source": [
        "review_analysis(data['Review Text'], asm_support=0.01, compact=0.45, p_support=100)"
      ],
      "execution_count": 9,
      "outputs": []
    },
    {
      "cell_type": "code",
      "metadata": {
        "id": "0yVchHxNigf8",
        "colab_type": "code",
        "colab": {}
      },
      "source": [
        ""
      ],
      "execution_count": null,
      "outputs": []
    }
  ]
}
